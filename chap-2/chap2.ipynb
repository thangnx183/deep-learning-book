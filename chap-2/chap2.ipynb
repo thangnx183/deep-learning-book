{
 "cells": [
  {
   "cell_type": "code",
   "execution_count": 1,
   "metadata": {},
   "outputs": [],
   "source": [
    "import numpy as np\n"
   ]
  },
  {
   "cell_type": "code",
   "execution_count": 7,
   "metadata": {},
   "outputs": [
    {
     "name": "stdout",
     "output_type": "stream",
     "text": [
      "[[1.  0.3]\n",
      " [0.1 1.3]]\n",
      "[[3. 4.]\n",
      " [1. 2.]]\n",
      "[[4.  4.3]\n",
      " [1.1 3.3]]\n"
     ]
    }
   ],
   "source": [
    "# basic objects\n",
    "A = np.array([[1,0.3],[0.1, 1.3]], dtype=np.float32)\n",
    "print(A)\n",
    "\n",
    "B = np.array([[3,4],[1,2]], dtype=np.float32)\n",
    "print(B)\n",
    "\n",
    "print(A+B)\n"
   ]
  },
  {
   "cell_type": "code",
   "execution_count": 9,
   "metadata": {},
   "outputs": [
    {
     "name": "stdout",
     "output_type": "stream",
     "text": [
      "6.8999996\n",
      "[[3.3       4.6      ]\n",
      " [1.5999999 3.       ]]\n"
     ]
    }
   ],
   "source": [
    "print(np.sum(A*B))\n",
    "print(np.dot(A,B))"
   ]
  },
  {
   "cell_type": "code",
   "execution_count": 10,
   "metadata": {},
   "outputs": [],
   "source": [
    "#matrix multiplication\n",
    "def mul_matrix(x, y):\n",
    "    c = np.zeros((x.shape[0], y.shape[1]))\n",
    "    for i in range(x.shape[0]):\n",
    "        for j in range(y.shape[1]):\n",
    "            c[i,j] = np.dot(x[i,:], y[:,j])\n",
    "    return c\n"
   ]
  },
  {
   "cell_type": "code",
   "execution_count": 11,
   "metadata": {},
   "outputs": [
    {
     "name": "stdout",
     "output_type": "stream",
     "text": [
      "[[3.29999995 4.5999999 ]\n",
      " [1.5999999  3.        ]]\n"
     ]
    }
   ],
   "source": [
    "print(mul_matrix(A,B))"
   ]
  },
  {
   "cell_type": "code",
   "execution_count": 12,
   "metadata": {},
   "outputs": [
    {
     "name": "stdout",
     "output_type": "stream",
     "text": [
      "[[1.  0.3]\n",
      " [0.1 1.3]]\n",
      "[[1.  0.1]\n",
      " [0.3 1.3]]\n"
     ]
    }
   ],
   "source": [
    "# transpose matrix\n",
    "\n",
    "print(A)\n",
    "print(A.transpose())"
   ]
  },
  {
   "cell_type": "code",
   "execution_count": 13,
   "metadata": {},
   "outputs": [
    {
     "name": "stdout",
     "output_type": "stream",
     "text": [
      "[[3.  1.2]\n",
      " [0.1 2.6]]\n",
      "[[3.3       4.6      ]\n",
      " [1.5999999 3.       ]]\n"
     ]
    }
   ],
   "source": [
    "print(A*B)\n",
    "print(A.dot(B))"
   ]
  },
  {
   "cell_type": "code",
   "execution_count": 14,
   "metadata": {},
   "outputs": [
    {
     "name": "stdout",
     "output_type": "stream",
     "text": [
      "[[1 2]\n",
      " [2 3]]\n",
      "[[2 2]\n",
      " [3 4]]\n",
      "[[ 2  4]\n",
      " [ 6 12]]\n",
      "[[ 8 10]\n",
      " [13 16]]\n"
     ]
    }
   ],
   "source": [
    "a = np.array([[1,2],[2,3]])\n",
    "b = np.array([[2,2],[3,4]])\n",
    "\n",
    "print(a)\n",
    "print(b)\n",
    "\n",
    "print(a*b)\n",
    "print(a.dot(b))"
   ]
  },
  {
   "cell_type": "code",
   "execution_count": 15,
   "metadata": {},
   "outputs": [
    {
     "data": {
      "text/plain": [
       "array([[1., 0., 0.],\n",
       "       [0., 1., 0.],\n",
       "       [0., 0., 1.]])"
      ]
     },
     "execution_count": 15,
     "metadata": {},
     "output_type": "execute_result"
    }
   ],
   "source": [
    "#inverses\n",
    "np.eye(3)\n"
   ]
  },
  {
   "cell_type": "code",
   "execution_count": 16,
   "metadata": {},
   "outputs": [
    {
     "name": "stdout",
     "output_type": "stream",
     "text": [
      "[[ 1.023622   -0.2362205 ]\n",
      " [-0.07874016  0.7874016 ]]\n"
     ]
    }
   ],
   "source": [
    "print(np.linalg.inv(A))"
   ]
  },
  {
   "cell_type": "code",
   "execution_count": 18,
   "metadata": {},
   "outputs": [
    {
     "name": "stdout",
     "output_type": "stream",
     "text": [
      "[[1. 0.]\n",
      " [0. 1.]]\n"
     ]
    }
   ],
   "source": [
    "print(A.dot(np.linalg.inv(A)))"
   ]
  },
  {
   "cell_type": "code",
   "execution_count": 19,
   "metadata": {},
   "outputs": [
    {
     "name": "stdout",
     "output_type": "stream",
     "text": [
      "[[1. 0.]\n",
      " [0. 1.]]\n"
     ]
    }
   ],
   "source": [
    "print(np.linalg.inv(A).dot(A))"
   ]
  },
  {
   "cell_type": "code",
   "execution_count": 20,
   "metadata": {},
   "outputs": [
    {
     "name": "stdout",
     "output_type": "stream",
     "text": [
      "[[1 2]\n",
      " [2 4]]\n",
      "Singular matrix\n"
     ]
    }
   ],
   "source": [
    "try:\n",
    "    bad_matrix=np.array([[1,2],[2,4]])\n",
    "    print(bad_matrix)\n",
    "    print(np.linalg.inv(bad_matrix))\n",
    "except Exception as e:\n",
    "    print(e)"
   ]
  },
  {
   "cell_type": "code",
   "execution_count": 21,
   "metadata": {},
   "outputs": [
    {
     "name": "stdout",
     "output_type": "stream",
     "text": [
      "[-5, -4, -3, -2, -1, 0, 1, 2, 3, 4, 5]\n"
     ]
    }
   ],
   "source": [
    "value = list(range(-5,6))\n",
    "print(value)"
   ]
  },
  {
   "cell_type": "code",
   "execution_count": 22,
   "metadata": {},
   "outputs": [],
   "source": [
    "x,y = np.meshgrid(value,value)"
   ]
  },
  {
   "cell_type": "code",
   "execution_count": 23,
   "metadata": {},
   "outputs": [
    {
     "name": "stdout",
     "output_type": "stream",
     "text": [
      "[[-5 -4 -3 -2 -1  0  1  2  3  4  5]\n",
      " [-5 -4 -3 -2 -1  0  1  2  3  4  5]\n",
      " [-5 -4 -3 -2 -1  0  1  2  3  4  5]\n",
      " [-5 -4 -3 -2 -1  0  1  2  3  4  5]\n",
      " [-5 -4 -3 -2 -1  0  1  2  3  4  5]\n",
      " [-5 -4 -3 -2 -1  0  1  2  3  4  5]\n",
      " [-5 -4 -3 -2 -1  0  1  2  3  4  5]\n",
      " [-5 -4 -3 -2 -1  0  1  2  3  4  5]\n",
      " [-5 -4 -3 -2 -1  0  1  2  3  4  5]\n",
      " [-5 -4 -3 -2 -1  0  1  2  3  4  5]\n",
      " [-5 -4 -3 -2 -1  0  1  2  3  4  5]]\n"
     ]
    }
   ],
   "source": [
    "print(x)"
   ]
  },
  {
   "cell_type": "code",
   "execution_count": null,
   "metadata": {},
   "outputs": [],
   "source": []
  }
 ],
 "metadata": {
  "kernelspec": {
   "display_name": "Python 3",
   "language": "python",
   "name": "python3"
  },
  "language_info": {
   "codemirror_mode": {
    "name": "ipython",
    "version": 3
   },
   "file_extension": ".py",
   "mimetype": "text/x-python",
   "name": "python",
   "nbconvert_exporter": "python",
   "pygments_lexer": "ipython3",
   "version": "3.7.0"
  }
 },
 "nbformat": 4,
 "nbformat_minor": 2
}
